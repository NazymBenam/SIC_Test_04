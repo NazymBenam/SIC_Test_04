{
  "nbformat": 4,
  "nbformat_minor": 0,
  "metadata": {
    "kernelspec": {
      "display_name": "Python 3",
      "language": "python",
      "name": "python3"
    },
    "language_info": {
      "codemirror_mode": {
        "name": "ipython",
        "version": 3
      },
      "file_extension": ".py",
      "mimetype": "text/x-python",
      "name": "python",
      "nbconvert_exporter": "python",
      "pygments_lexer": "ipython3",
      "version": "3.7.3"
    },
    "colab": {
      "name": "problem_0401_Nazim.ipynb",
      "provenance": [],
      "collapsed_sections": []
    }
  },
  "cells": [
    {
      "cell_type": "markdown",
      "metadata": {
        "id": "ZzTOjJr9wtkH"
      },
      "source": [
        "## Quiz #0401"
      ]
    },
    {
      "cell_type": "markdown",
      "metadata": {
        "id": "p9c7d2t-wtkX"
      },
      "source": [
        "### \"Optimal number of clusters for K-means clustering\""
      ]
    },
    {
      "cell_type": "code",
      "metadata": {
        "id": "A7EHrBL8wtka"
      },
      "source": [
        "import numpy as np\n",
        "import pandas as pd\n",
        "import matplotlib.pyplot as plt\n",
        "from sklearn.datasets import make_blobs\n",
        "from sklearn.cluster import KMeans\n",
        "%matplotlib inline"
      ],
      "execution_count": 1,
      "outputs": []
    },
    {
      "cell_type": "markdown",
      "metadata": {
        "id": "UnhePRhvwtkc"
      },
      "source": [
        "#### Answer the following question by providing Python code:"
      ]
    },
    {
      "cell_type": "code",
      "metadata": {
        "id": "8x6zSfQQwtkh",
        "colab": {
          "base_uri": "https://localhost:8080/"
        },
        "outputId": "7745ae0f-3fb7-4faa-965b-ab6976e63a30"
      },
      "source": [
        "# We will use simulated data.\n",
        "# 3 clusters in 8 dimensional space.\n",
        "# Hard to visualize!\n",
        "X, label = make_blobs(n_samples=150, n_features=8, centers=3, cluster_std = 2, random_state=123)\n",
        "X.shape"
      ],
      "execution_count": 3,
      "outputs": [
        {
          "output_type": "execute_result",
          "data": {
            "text/plain": [
              "(150, 8)"
            ]
          },
          "metadata": {
            "tags": []
          },
          "execution_count": 3
        }
      ]
    },
    {
      "cell_type": "markdown",
      "metadata": {
        "id": "6bDNCasKwtki"
      },
      "source": [
        "1). Define a function that calculates the \"total internal sum of squares\".\n",
        "- X         :   Data.\n",
        "- centers   :   Array that contains the centroid coordinates. Calculated by kmeans.\n",
        "- clusters  :   Array of cluster labels. Calculated by kmeans. <br> <br>\n",
        "HINT: Implement the formula from the lecture note."
      ]
    },
    {
      "cell_type": "code",
      "metadata": {
        "id": "ZE45NPy9wtkl"
      },
      "source": [
        "def total_internal_ss(X, centers, clusters):\n",
        "      \n",
        "       N_clusters = centers.shape[0]\n",
        "       N_columns = centers.shape[1]\n",
        "       N_rows = X.shape[0]\n",
        "       closest_centers = np.zeros((N_rows, N_columns))\n",
        "       for n in range(N_clusters):\n",
        "        indices = (clusters == n)\n",
        "        for j in range(N_columns):\n",
        "            closest_centers[indices,j] = centers[n,j]             # This is the center (centroid) closest to the given observation.\n",
        "       return np.sum((X-closest_centers)**2.0)"
      ],
      "execution_count": 11,
      "outputs": []
    },
    {
      "cell_type": "markdown",
      "metadata": {
        "id": "kNlDfYUEwtqL"
      },
      "source": [
        "2). Visualize as a Scatter plot the \"total internal sum of squares\" vs N# of clusters. \n",
        "- Then, determine the optimal number of clusters.\n",
        "- Is this number the same as expected?"
      ]
    },
    {
      "cell_type": "code",
      "metadata": {
        "id": "mqxDq0uYwtqQ",
        "colab": {
          "base_uri": "https://localhost:8080/",
          "height": 265
        },
        "outputId": "e3c003ad-65e4-4ad1-e263-0e6e166d53e9"
      },
      "source": [
        "n_cluster = np.array(range(2,10))                   # Array that contains the number of clusters.\n",
        "total_ss = np.array([])                             # Array that will contain the total internal sum of squares.\n",
        "\n",
        "for n in n_cluster:\n",
        "    kmeans = KMeans(n_clusters=n)\n",
        "    clusters = kmeans.fit(X).labels_\n",
        "    centers = kmeans.cluster_centers_\n",
        "    total_ss = np.append(total_ss, total_internal_ss(X,centers,clusters))\n",
        "\n",
        "\n",
        "plt.plot(n_cluster,total_ss,color='blue',marker='o',linestyle='dashed',linewidth=1,markersize=5)\n",
        "plt.show()\n"
      ],
      "execution_count": 12,
      "outputs": [
        {
          "output_type": "display_data",
          "data": {
            "image/png": "[encoded data removed]",
            "text/plain": [
              "<Figure size 432x288 with 1 Axes>"
            ]
          },
          "metadata": {
            "tags": [],
            "needs_background": "light"
          }
        }
      ]
    },
    {
      "cell_type": "code",
      "metadata": {
        "id": "9NffFrRlwtqV"
      },
      "source": [
        "       # <Your code goes in here>"
      ],
      "execution_count": null,
      "outputs": []
    }
  ]
}