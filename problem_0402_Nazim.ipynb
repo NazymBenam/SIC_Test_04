{
  "nbformat": 4,
  "nbformat_minor": 0,
  "metadata": {
    "kernelspec": {
      "display_name": "Python 3",
      "language": "python",
      "name": "python3"
    },
    "language_info": {
      "codemirror_mode": {
        "name": "ipython",
        "version": 3
      },
      "file_extension": ".py",
      "mimetype": "text/x-python",
      "name": "python",
      "nbconvert_exporter": "python",
      "pygments_lexer": "ipython3",
      "version": "3.7.3"
    },
    "colab": {
      "name": "problem_0402_Nazim.ipynb",
      "provenance": [],
      "collapsed_sections": []
    }
  },
  "cells": [
    {
      "cell_type": "markdown",
      "metadata": {
        "id": "fymIZnE2HiSk"
      },
      "source": [
        "## Quiz #0402"
      ]
    },
    {
      "cell_type": "markdown",
      "metadata": {
        "id": "ev6UMwZsHiSq"
      },
      "source": [
        "### \"OLS solution\""
      ]
    },
    {
      "cell_type": "code",
      "metadata": {
        "id": "KjB62CZXHiSs"
      },
      "source": [
        "import pandas as pd\n",
        "import numpy as np\n",
        "import math\n",
        "import operator\n",
        "import matplotlib.pyplot as plt\n",
        "%matplotlib inline"
      ],
      "execution_count": 484,
      "outputs": []
    },
    {
      "cell_type": "markdown",
      "metadata": {
        "id": "anHya6yqHiSt"
      },
      "source": [
        "#### Answer the following question by providing Python code:\n",
        "<br>\n",
        "study = an array that contains the hours of study. This is the explanatory variable. <br>\n",
        "score = an array that contains the test scores. This is the response variable."
      ]
    },
    {
      "cell_type": "code",
      "metadata": {
        "id": "medl6inpHiSu"
      },
      "source": [
        "study = np.array([ 3, 4.5, 6, 1.2, 2, 6.9, 6.7, 5.5]).reshape(-1,1)\n",
        "score = np.array([ 88, 85, 90, 80, 81, 92, 95, 90]).reshape(-1,1)\n",
        "\n"
      ],
      "execution_count": 485,
      "outputs": []
    },
    {
      "cell_type": "markdown",
      "metadata": {
        "id": "DmOxv3DsHiSv"
      },
      "source": [
        "1). Define the 'linerRegression' class to match the output shown below:"
      ]
    },
    {
      "cell_type": "code",
      "metadata": {
        "id": "JqkKJQC21yva"
      },
      "source": [
        "\n",
        "        # self.beta = np.dot(np.linalg.inv(np.dot(input_X.T,input_X)),np.dot(input_X.T,input_Y))\n",
        "        # self.residuals = input_Y - np.dot(input_X,self.beta)"
      ],
      "execution_count": 486,
      "outputs": []
    },
    {
      "cell_type": "code",
      "metadata": {
        "id": "cB51PpzbHiSw"
      },
      "source": [
        "class linearRegression:\n",
        "    def __init__(self):\n",
        "      return \n",
        "        \n",
        "    def train(self, input_X, input_Y):\n",
        "\n",
        "        #Finding the coefficients :\n",
        "        n = input_X.shape[0]                                      # Number of observations.\n",
        "        k = input_X.shape[1]                                      # Number of explanatory variables.\n",
        "        mean_x = np.mean(input_X)\n",
        "        mean_y = np.mean(input_Y)\n",
        "        m = len(input_X)\n",
        "\n",
        "        numer = 0\n",
        "        denom = 0\n",
        "        for i in range(m):\n",
        "           numer += (input_X[i] - mean_x) * (input_Y[i] - mean_y)\n",
        "           denom += (input_X[i] - mean_x) ** 2\n",
        "\n",
        "        self.m = numer / denom\n",
        "        self.c = mean_y - (self.m * mean_x)\n",
        "\n",
        "\n",
        "        #Ploting the regression :\n",
        "        max_x = np.max(input_X) + 100\n",
        "        min_x = np.min(input_Y) - 100\n",
        "\n",
        "        x = np.linspace (0, 24, 100)\n",
        "        y = self.c + self.m * x\n",
        "\n",
        "        plt.plot(x, y, label='Regression Line')\n",
        "        plt.scatter(input_X, input_Y, c='#ef5423', label='data points')\n",
        "        plt.xlabel('hours of study')\n",
        "        plt.ylabel('scores')\n",
        "        plt.legend()\n",
        "        plt.show()\n",
        "\n",
        "\n",
        "        #R2 Score :\n",
        "        y_pred = self.c + self.m * input_X\n",
        "        SSrest = np.dot((self.m).T, self.m)\n",
        "        SStot = np.dot((input_Y - y_pred).T, (input_Y - y_pred))\n",
        "        R2= 1- SSrest/SStot\n",
        "        self.r22 = R2\n",
        "       \n",
        "        return  \n",
        "    \n",
        "\n",
        "\n",
        "    def output(self):\n",
        "        print('coefs = ', self.m, self.c)\n",
        "        print('R2 = ', self.r22)\n",
        "        return"
      ],
      "execution_count": 487,
      "outputs": []
    },
    {
      "cell_type": "markdown",
      "metadata": {
        "id": "TTNJUDEMHiSy"
      },
      "source": [
        "**Sample run:**"
      ]
    },
    {
      "cell_type": "code",
      "metadata": {
        "id": "u6tzBl78HiSz",
        "colab": {
          "base_uri": "https://localhost:8080/",
          "height": 313
        },
        "outputId": "a0a27b47-e03c-4f4b-cf28-ddc75fdcc3bd"
      },
      "source": [
        "LR = linearRegression()                    # Create a linear regression object.\n",
        "LR.train(study, score)                     # Train.\n",
        "LR.output()                                # Display the training result."
      ],
      "execution_count": 488,
      "outputs": [
        {
          "output_type": "display_data",
          "data": {
            "image/png": "[encoded data removed]",
            "text/plain": [
              "<Figure size 432x288 with 1 Axes>"
            ]
          },
          "metadata": {
            "tags": [],
            "needs_background": "light"
          }
        },
        {
          "output_type": "stream",
          "text": [
            "coefs =  [2.22130284] [77.68466978]\n",
            "R2 =  [[0.83490702]]\n"
          ],
          "name": "stdout"
        }
      ]
    }
  ]
}